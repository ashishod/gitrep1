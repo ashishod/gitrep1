{
 "metadata": {
  "name": "",
  "signature": "sha256:8f23a2a5fed22b5a5ba9e5a77c9f21c951343961e17f3eadb2cdf4892b3dcb26"
 },
 "nbformat": 3,
 "nbformat_minor": 0,
 "worksheets": [
  {
   "cells": [
    {
     "cell_type": "markdown",
     "metadata": {},
     "source": [
      "x_n+1 = 2x_n - x_n-1 + a(t)dt^2"
  CORRECTED   ]
    },
    {
     "cell_type": "code",
     "collapsed": false,
     "input": [
      "def find_xnext(xold, xnow,a):\n",
      "    return 2*xnow - xold + a*dt**2"
     ],
     "language": "python",
     "metadata": {},
     "outputs": [],
     "prompt_number": 2
    },
    {
     "cell_type": "code",
     "collapsed": false,
     "input": [],
     "language": "python",
     "metadata": {},
     "outputs": []
    }
   ],
   "metadata": {}
  }
 ]
}
